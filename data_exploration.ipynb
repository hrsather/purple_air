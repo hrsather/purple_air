{
 "cells": [
  {
   "cell_type": "code",
   "execution_count": 32,
   "source": [
    "import pandas as pd\n",
    "import matplotlib.pyplot as plt\n",
    "import numpy as np\n",
    "\n",
    "from load_data import *"
   ],
   "outputs": [],
   "metadata": {}
  },
  {
   "cell_type": "code",
   "execution_count": 33,
   "source": [
    "raw_data = get_dataframe(\"new_data\")\n",
    "\n",
    "date_name = \"created_at\"\n",
    "ppm_name = \"PM2.5_ATM_ug/m3\""
   ],
   "outputs": [],
   "metadata": {}
  },
  {
   "cell_type": "code",
   "execution_count": 34,
   "source": [
    "data = pd.DataFrame()\n",
    "agg_func = {\"PM2.5_ATM_ug/m3\":\"mean\", \"location\":\"first\", \"inside_outside\":\"first\", \"lat\":\"first\", \"long\":\"first\"}\n",
    "for location in raw_data[\"location\"].unique():\n",
    "    location_df = raw_data[raw_data[\"location\"] == location]\n",
    "    location_df = location_df.groupby(date_name, as_index=False).agg(agg_func)\n",
    "    data = data.append(location_df)"
   ],
   "outputs": [],
   "metadata": {}
  },
  {
   "cell_type": "code",
   "execution_count": 35,
   "source": [
    "data = raw_data"
   ],
   "outputs": [],
   "metadata": {}
  },
  {
   "cell_type": "code",
   "execution_count": 65,
   "source": [
    "arvada_a = data[data[\"location\"] == \"Arvada\"]\n",
    "arvada_b = data[data[\"location\"] == \"Arvada B\"]"
   ],
   "outputs": [],
   "metadata": {}
  },
  {
   "cell_type": "code",
   "execution_count": 56,
   "source": [
    "def remove_outliers(df, cutoff=300):\n",
    "    previous_value = df[ppm_name].iloc[0]\n",
    "    for i in range(len(df[ppm_name]) - 1):\n",
    "        current_value = df[ppm_name].iloc[i]\n",
    "        next_value = df[ppm_name].iloc[i + 1]\n",
    "        if (current_value - previous_value > cutoff or\n",
    "            current_value - next_value > cutoff):  # Too big of difference\n",
    "            df[ppm_name].iloc[i] = previous_value\n",
    "        else:\n",
    "            previous_value = (current_value + next_value) / 2\n",
    "    return df\n",
    "\n",
    "plt.plot(arvada_a[date_name], arvada_a[ppm_name])\n",
    "\n",
    "arvada_a = remove_outliers(arvada_a)\n",
    "\n",
    "plt.plot(arvada_b[date_name], arvada_b[ppm_name])\n",
    "plt.show()"
   ],
   "outputs": [
    {
     "output_type": "display_data",
     "data": {
      "image/png": "[encoded data removed]",
      "text/plain": [
       "<Figure size 432x288 with 1 Axes>"
      ]
     },
     "metadata": {
      "needs_background": "light"
     }
    }
   ],
   "metadata": {}
  },
  {
   "cell_type": "code",
   "execution_count": 105,
   "source": [
    "\n",
    "def merge_a_b(df_a, df_b):\n",
    "    merged = df_a.merge(df_b, how=\"outer\", on=date_name)\n",
    "    merged = merged.sort_values(by=date_name)\n",
    "    # Take first\n",
    "    col_names = [\"location\", \"inside_outside\"]\n",
    "    for col_name in col_names:\n",
    "        merged = merged.assign(**{col_name:df_a[col_name].iloc[0]})\n",
    "        merged = merged.drop([col_name + \"_x\", col_name + \"_y\"], axis=1)\n",
    "\n",
    "    # Take average\n",
    "    col_names = [\"PM2.5_ATM_ug/m3\", \"lat\", \"long\"]\n",
    "    for col_name in col_names:\n",
    "        merged[col_name] = merged[[col_name + \"_x\", col_name + \"_y\"]].mean(axis=1)\n",
    "        merged = merged.drop([col_name + \"_x\", col_name + \"_y\"], axis=1)\n",
    "\n",
    "    return merged"
   ],
   "outputs": [
    {
     "output_type": "execute_result",
     "data": {
      "text/html": [
       "<div>\n",
       "<style scoped>\n",
       "    .dataframe tbody tr th:only-of-type {\n",
       "        vertical-align: middle;\n",
       "    }\n",
       "\n",
       "    .dataframe tbody tr th {\n",
       "        vertical-align: top;\n",
       "    }\n",
       "\n",
       "    .dataframe thead th {\n",
       "        text-align: right;\n",
       "    }\n",
       "</style>\n",
       "<table border=\"1\" class=\"dataframe\">\n",
       "  <thead>\n",
       "    <tr style=\"text-align: right;\">\n",
       "      <th></th>\n",
       "      <th>created_at</th>\n",
       "      <th>location</th>\n",
       "      <th>inside_outside</th>\n",
       "      <th>PM2.5_ATM_ug/m3</th>\n",
       "      <th>lat</th>\n",
       "      <th>long</th>\n",
       "    </tr>\n",
       "  </thead>\n",
       "  <tbody>\n",
       "    <tr>\n",
       "      <th>0</th>\n",
       "      <td>2021-06-18 02:04:00</td>\n",
       "      <td>Arvada</td>\n",
       "      <td>outside</td>\n",
       "      <td>24.595</td>\n",
       "      <td>39.805811</td>\n",
       "      <td>-105.160995</td>\n",
       "    </tr>\n",
       "    <tr>\n",
       "      <th>1</th>\n",
       "      <td>2021-06-18 02:06:00</td>\n",
       "      <td>Arvada</td>\n",
       "      <td>outside</td>\n",
       "      <td>46.910</td>\n",
       "      <td>39.805811</td>\n",
       "      <td>-105.160995</td>\n",
       "    </tr>\n",
       "    <tr>\n",
       "      <th>2</th>\n",
       "      <td>2021-06-18 02:08:00</td>\n",
       "      <td>Arvada</td>\n",
       "      <td>outside</td>\n",
       "      <td>22.685</td>\n",
       "      <td>39.805811</td>\n",
       "      <td>-105.160995</td>\n",
       "    </tr>\n",
       "    <tr>\n",
       "      <th>3</th>\n",
       "      <td>2021-06-18 02:10:00</td>\n",
       "      <td>Arvada</td>\n",
       "      <td>outside</td>\n",
       "      <td>19.230</td>\n",
       "      <td>39.805811</td>\n",
       "      <td>-105.160995</td>\n",
       "    </tr>\n",
       "    <tr>\n",
       "      <th>4</th>\n",
       "      <td>2021-06-18 02:12:00</td>\n",
       "      <td>Arvada</td>\n",
       "      <td>outside</td>\n",
       "      <td>18.720</td>\n",
       "      <td>39.805811</td>\n",
       "      <td>-105.160995</td>\n",
       "    </tr>\n",
       "    <tr>\n",
       "      <th>...</th>\n",
       "      <td>...</td>\n",
       "      <td>...</td>\n",
       "      <td>...</td>\n",
       "      <td>...</td>\n",
       "      <td>...</td>\n",
       "      <td>...</td>\n",
       "    </tr>\n",
       "    <tr>\n",
       "      <th>67575</th>\n",
       "      <td>2021-09-21 23:52:00</td>\n",
       "      <td>Arvada</td>\n",
       "      <td>outside</td>\n",
       "      <td>2.305</td>\n",
       "      <td>39.805811</td>\n",
       "      <td>-105.160995</td>\n",
       "    </tr>\n",
       "    <tr>\n",
       "      <th>67576</th>\n",
       "      <td>2021-09-21 23:54:00</td>\n",
       "      <td>Arvada</td>\n",
       "      <td>outside</td>\n",
       "      <td>2.285</td>\n",
       "      <td>39.805811</td>\n",
       "      <td>-105.160995</td>\n",
       "    </tr>\n",
       "    <tr>\n",
       "      <th>67577</th>\n",
       "      <td>2021-09-21 23:56:00</td>\n",
       "      <td>Arvada</td>\n",
       "      <td>outside</td>\n",
       "      <td>2.445</td>\n",
       "      <td>39.805811</td>\n",
       "      <td>-105.160995</td>\n",
       "    </tr>\n",
       "    <tr>\n",
       "      <th>67578</th>\n",
       "      <td>2021-09-21 23:58:00</td>\n",
       "      <td>Arvada</td>\n",
       "      <td>outside</td>\n",
       "      <td>2.140</td>\n",
       "      <td>39.805811</td>\n",
       "      <td>-105.160995</td>\n",
       "    </tr>\n",
       "    <tr>\n",
       "      <th>67579</th>\n",
       "      <td>2021-09-22 00:00:00</td>\n",
       "      <td>Arvada</td>\n",
       "      <td>outside</td>\n",
       "      <td>2.405</td>\n",
       "      <td>39.805811</td>\n",
       "      <td>-105.160995</td>\n",
       "    </tr>\n",
       "  </tbody>\n",
       "</table>\n",
       "<p>68211 rows × 6 columns</p>\n",
       "</div>"
      ],
      "text/plain": [
       "               created_at location inside_outside  PM2.5_ATM_ug/m3        lat  \\\n",
       "0     2021-06-18 02:04:00   Arvada        outside           24.595  39.805811   \n",
       "1     2021-06-18 02:06:00   Arvada        outside           46.910  39.805811   \n",
       "2     2021-06-18 02:08:00   Arvada        outside           22.685  39.805811   \n",
       "3     2021-06-18 02:10:00   Arvada        outside           19.230  39.805811   \n",
       "4     2021-06-18 02:12:00   Arvada        outside           18.720  39.805811   \n",
       "...                   ...      ...            ...              ...        ...   \n",
       "67575 2021-09-21 23:52:00   Arvada        outside            2.305  39.805811   \n",
       "67576 2021-09-21 23:54:00   Arvada        outside            2.285  39.805811   \n",
       "67577 2021-09-21 23:56:00   Arvada        outside            2.445  39.805811   \n",
       "67578 2021-09-21 23:58:00   Arvada        outside            2.140  39.805811   \n",
       "67579 2021-09-22 00:00:00   Arvada        outside            2.405  39.805811   \n",
       "\n",
       "             long  \n",
       "0     -105.160995  \n",
       "1     -105.160995  \n",
       "2     -105.160995  \n",
       "3     -105.160995  \n",
       "4     -105.160995  \n",
       "...           ...  \n",
       "67575 -105.160995  \n",
       "67576 -105.160995  \n",
       "67577 -105.160995  \n",
       "67578 -105.160995  \n",
       "67579 -105.160995  \n",
       "\n",
       "[68211 rows x 6 columns]"
      ]
     },
     "metadata": {},
     "execution_count": 105
    }
   ],
   "metadata": {}
  },
  {
   "cell_type": "markdown",
   "source": [
    "# Steps for cleaning data:\n",
    "\n",
    "1. Remove all obvious outliers (Where there is a single spike of 300 or more. Can also compare channels A and B)\n",
    "2. Round datetime to nearest 10 minutes\n",
    "3. Average all 10 minute times  \n",
    "Question: Will this be alright or do we want to create a better method"
   ],
   "metadata": {}
  },
  {
   "cell_type": "markdown",
   "source": [
    "# Steps for coorelation clustering\n",
    "There is no python package that does this. Would this work?\n",
    "1. Clean the data\n",
    "2. Normalize the data. Make the mean zero and variance one\n",
    "3. Find the correlation of each of the sensors. O(n^2)\n",
    "4. Use standard clustering after this. Complete linkage, probably.\n",
    "\n",
    "Then, display via gps coordinates to visualize correlations.  \n",
    "Will this work?"
   ],
   "metadata": {}
  },
  {
   "cell_type": "markdown",
   "source": [
    "TODO:  \n",
    "Use A-B sensor info for outliers.  \n",
    "Make 2 minute intervals.  DONE  \n",
    "Avg left and right DONE\n",
    "\n",
    "Try standardized and non-standardized clustering data.\n",
    "\n",
    "Cross-correlation lagged functions.\n",
    "\n",
    "Use ATM DONE\n",
    "\n",
    "Air now sensors comparison. EPA Sensors"
   ],
   "metadata": {}
  }
 ],
 "metadata": {
  "orig_nbformat": 4,
  "language_info": {
   "name": "python",
   "version": "3.8.10",
   "mimetype": "text/x-python",
   "codemirror_mode": {
    "name": "ipython",
    "version": 3
   },
   "pygments_lexer": "ipython3",
   "nbconvert_exporter": "python",
   "file_extension": ".py"
  },
  "kernelspec": {
   "name": "python3",
   "display_name": "Python 3.8.10 64-bit"
  },
  "interpreter": {
   "hash": "916dbcbb3f70747c44a77c7bcd40155683ae19c65e1c03b4aa3499c5328201f1"
  }
 },
 "nbformat": 4,
 "nbformat_minor": 2
}